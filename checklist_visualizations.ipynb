{
  "nbformat": 4,
  "nbformat_minor": 0,
  "metadata": {
    "kernelspec": {
      "display_name": "Python 3",
      "language": "python",
      "name": "python3"
    },
    "language_info": {
      "codemirror_mode": {
        "name": "ipython",
        "version": 3
      },
      "file_extension": ".py",
      "mimetype": "text/x-python",
      "name": "python",
      "nbconvert_exporter": "python",
      "pygments_lexer": "ipython3",
      "version": "3.7.4"
    },
    "colab": {
      "name": "Copy of checklist_visualizations.ipynb",
      "provenance": [],
      "collapsed_sections": []
    }
  },
  "cells": [
    {
      "cell_type": "markdown",
      "metadata": {
        "id": "S_jFd8jdiad4"
      },
      "source": [
        "# Sounding Spirit Checklist Visualizations\n",
        "\n",
        "The purpose of this notebook is to practice using Python to visualize patterns in the Checklist data. "
      ]
    },
    {
      "cell_type": "markdown",
      "metadata": {
        "id": "_woz-pu6n73R"
      },
      "source": [
        "## Load libraries"
      ]
    },
    {
      "cell_type": "code",
      "metadata": {
        "id": "UFeRW8mOiad9"
      },
      "source": [
        "# The ``inline`` flag will use the appropriate backend to make figures appear inline in the notebook.  \n",
        "%matplotlib inline\n",
        "\n",
        "import pandas as pd\n",
        "import numpy as np\n",
        "\n",
        "# `plt` is an alias for the `matplotlib.pyplot` module\n",
        "import matplotlib.pyplot as plt\n",
        "import matplotlib.ticker as ticker\n",
        "\n",
        "# import seaborn library (wrapper of matplotlib)\n",
        "import seaborn as sns\n",
        "\n",
        "# import regular expressions to check date\n",
        "import re"
      ],
      "execution_count": null,
      "outputs": []
    },
    {
      "cell_type": "markdown",
      "metadata": {
        "id": "VyP7dr-ciad_"
      },
      "source": [
        "## Load and inspect data"
      ]
    },
    {
      "cell_type": "code",
      "metadata": {
        "id": "BTQW1SIsiaeA"
      },
      "source": [
        "url = ('https://raw.githubusercontent.com/sounding-spirit/checklist-visualizations/main/dataverse_files/Checklist%20of%20Southern%20Sacred%20Music%20Imprints%2C%201850%E2%80%931925.csv')\n",
        "df = pd.read_csv(url)"
      ],
      "execution_count": null,
      "outputs": []
    },
    {
      "cell_type": "code",
      "metadata": {
        "id": "Xh62twnNiaeB",
        "colab": {
          "base_uri": "https://localhost:8080/",
          "height": 660
        },
        "outputId": "c6415c68-d74a-4c87-eda1-f900acc31b40"
      },
      "source": [
        "df.head()"
      ],
      "execution_count": null,
      "outputs": [
        {
          "output_type": "execute_result",
          "data": {
            "text/html": [
              "<div>\n",
              "<style scoped>\n",
              "    .dataframe tbody tr th:only-of-type {\n",
              "        vertical-align: middle;\n",
              "    }\n",
              "\n",
              "    .dataframe tbody tr th {\n",
              "        vertical-align: top;\n",
              "    }\n",
              "\n",
              "    .dataframe thead th {\n",
              "        text-align: right;\n",
              "    }\n",
              "</style>\n",
              "<table border=\"1\" class=\"dataframe\">\n",
              "  <thead>\n",
              "    <tr style=\"text-align: right;\">\n",
              "      <th></th>\n",
              "      <th>Title</th>\n",
              "      <th>Responsibility</th>\n",
              "      <th>Associated Places</th>\n",
              "      <th>Publication</th>\n",
              "      <th>Manufacture</th>\n",
              "      <th>Distribution</th>\n",
              "      <th>Date</th>\n",
              "      <th>Approximate Date</th>\n",
              "      <th>Copyright</th>\n",
              "      <th>Edition/Imprint</th>\n",
              "      <th>Pagination</th>\n",
              "      <th>Height</th>\n",
              "      <th>Width</th>\n",
              "      <th>Denomination</th>\n",
              "      <th>Notation</th>\n",
              "      <th>Language</th>\n",
              "      <th>Content</th>\n",
              "      <th>1850-1925</th>\n",
              "      <th>After 1925</th>\n",
              "      <th>Before 1850</th>\n",
              "      <th>Broadside</th>\n",
              "      <th>Confederate Imprint</th>\n",
              "      <th>Convention Gospel</th>\n",
              "      <th>Denominational Publication</th>\n",
              "      <th>Dispersed Harmony</th>\n",
              "      <th>Distributor in South</th>\n",
              "      <th>Ethnographic</th>\n",
              "      <th>Female Author/Publisher</th>\n",
              "      <th>Fraternal Society</th>\n",
              "      <th>Gospel</th>\n",
              "      <th>Liturgical/Devotional Content</th>\n",
              "      <th>Missionary Use</th>\n",
              "      <th>Native Use</th>\n",
              "      <th>Non-White</th>\n",
              "      <th>Occasional</th>\n",
              "      <th>Out-of-Country Publisher</th>\n",
              "      <th>Out-of-Region Publisher</th>\n",
              "      <th>Revival Use</th>\n",
              "      <th>Scientific Music</th>\n",
              "      <th>Singing School Use</th>\n",
              "      <th>Still in Use</th>\n",
              "      <th>Sheet Music</th>\n",
              "      <th>Spirituals</th>\n",
              "      <th>Sunday School Use</th>\n",
              "      <th>Tract Society Publication</th>\n",
              "      <th>Attestations</th>\n",
              "      <th>Source for Record</th>\n",
              "      <th>Emory Holdings</th>\n",
              "      <th>MTSU Holdings</th>\n",
              "      <th>SBTS Holdings</th>\n",
              "      <th>UK Holdings</th>\n",
              "      <th>Notes</th>\n",
              "    </tr>\n",
              "  </thead>\n",
              "  <tbody>\n",
              "    <tr>\n",
              "      <th>0</th>\n",
              "      <td>Timbrel : a collection of sacred music</td>\n",
              "      <td>Baker, B. F.; Woodbury, I. B.</td>\n",
              "      <td>New York, NY; Boston, MA; Cincinnati, OH; St. ...</td>\n",
              "      <td>Huntington and Savage; W. J. Reynolds and Co.;...</td>\n",
              "      <td>NaN</td>\n",
              "      <td>NaN</td>\n",
              "      <td>1850</td>\n",
              "      <td>NaN</td>\n",
              "      <td>1848</td>\n",
              "      <td>NaN</td>\n",
              "      <td>?</td>\n",
              "      <td>?</td>\n",
              "      <td>oblong</td>\n",
              "      <td>NaN</td>\n",
              "      <td>?</td>\n",
              "      <td>English</td>\n",
              "      <td>Sacred</td>\n",
              "      <td>Y</td>\n",
              "      <td>NaN</td>\n",
              "      <td>NaN</td>\n",
              "      <td>NaN</td>\n",
              "      <td>NaN</td>\n",
              "      <td>NaN</td>\n",
              "      <td>NaN</td>\n",
              "      <td>NaN</td>\n",
              "      <td>Y</td>\n",
              "      <td>NaN</td>\n",
              "      <td>NaN</td>\n",
              "      <td>NaN</td>\n",
              "      <td>NaN</td>\n",
              "      <td>NaN</td>\n",
              "      <td>NaN</td>\n",
              "      <td>NaN</td>\n",
              "      <td>NaN</td>\n",
              "      <td>NaN</td>\n",
              "      <td>NaN</td>\n",
              "      <td>NaN</td>\n",
              "      <td>NaN</td>\n",
              "      <td>Y</td>\n",
              "      <td>NaN</td>\n",
              "      <td>NaN</td>\n",
              "      <td>NaN</td>\n",
              "      <td>NaN</td>\n",
              "      <td>NaN</td>\n",
              "      <td>NaN</td>\n",
              "      <td>MTSU</td>\n",
              "      <td>MTSU (local)</td>\n",
              "      <td>NaN</td>\n",
              "      <td>Y</td>\n",
              "      <td>NaN</td>\n",
              "      <td>NaN</td>\n",
              "      <td>NaN</td>\n",
              "    </tr>\n",
              "    <tr>\n",
              "      <th>1</th>\n",
              "      <td>Sacred melodeon, The : containing a great vari...</td>\n",
              "      <td>Hayden, A. S.</td>\n",
              "      <td>Cincinnati, OH</td>\n",
              "      <td>Moore, Wilstach, Keys and Co.</td>\n",
              "      <td>NaN</td>\n",
              "      <td>NaN</td>\n",
              "      <td>1858</td>\n",
              "      <td>NaN</td>\n",
              "      <td>1849</td>\n",
              "      <td>NaN</td>\n",
              "      <td>?</td>\n",
              "      <td>?</td>\n",
              "      <td>oblong</td>\n",
              "      <td>NaN</td>\n",
              "      <td>?</td>\n",
              "      <td>English</td>\n",
              "      <td>Sacred</td>\n",
              "      <td>Y</td>\n",
              "      <td>NaN</td>\n",
              "      <td>NaN</td>\n",
              "      <td>NaN</td>\n",
              "      <td>NaN</td>\n",
              "      <td>NaN</td>\n",
              "      <td>NaN</td>\n",
              "      <td>Y</td>\n",
              "      <td>NaN</td>\n",
              "      <td>NaN</td>\n",
              "      <td>NaN</td>\n",
              "      <td>NaN</td>\n",
              "      <td>NaN</td>\n",
              "      <td>NaN</td>\n",
              "      <td>NaN</td>\n",
              "      <td>NaN</td>\n",
              "      <td>NaN</td>\n",
              "      <td>NaN</td>\n",
              "      <td>NaN</td>\n",
              "      <td>NaN</td>\n",
              "      <td>NaN</td>\n",
              "      <td>NaN</td>\n",
              "      <td>Y</td>\n",
              "      <td>NaN</td>\n",
              "      <td>NaN</td>\n",
              "      <td>NaN</td>\n",
              "      <td>NaN</td>\n",
              "      <td>NaN</td>\n",
              "      <td>MTSU</td>\n",
              "      <td>MTSU (local)</td>\n",
              "      <td>NaN</td>\n",
              "      <td>Y</td>\n",
              "      <td>NaN</td>\n",
              "      <td>NaN</td>\n",
              "      <td>NaN</td>\n",
              "    </tr>\n",
              "    <tr>\n",
              "      <th>2</th>\n",
              "      <td>Sacred melodeon, The : containing a great vari...</td>\n",
              "      <td>Hayden, A. S.</td>\n",
              "      <td>Cincinnati, OH</td>\n",
              "      <td>Moore, Wilstach, Keys and Co.</td>\n",
              "      <td>NaN</td>\n",
              "      <td>NaN</td>\n",
              "      <td>1860</td>\n",
              "      <td>NaN</td>\n",
              "      <td>1849</td>\n",
              "      <td>NaN</td>\n",
              "      <td>?</td>\n",
              "      <td>?</td>\n",
              "      <td>oblong</td>\n",
              "      <td>NaN</td>\n",
              "      <td>?</td>\n",
              "      <td>English</td>\n",
              "      <td>Sacred</td>\n",
              "      <td>Y</td>\n",
              "      <td>NaN</td>\n",
              "      <td>NaN</td>\n",
              "      <td>NaN</td>\n",
              "      <td>NaN</td>\n",
              "      <td>NaN</td>\n",
              "      <td>NaN</td>\n",
              "      <td>Y</td>\n",
              "      <td>NaN</td>\n",
              "      <td>NaN</td>\n",
              "      <td>NaN</td>\n",
              "      <td>NaN</td>\n",
              "      <td>NaN</td>\n",
              "      <td>NaN</td>\n",
              "      <td>NaN</td>\n",
              "      <td>NaN</td>\n",
              "      <td>NaN</td>\n",
              "      <td>NaN</td>\n",
              "      <td>NaN</td>\n",
              "      <td>NaN</td>\n",
              "      <td>NaN</td>\n",
              "      <td>NaN</td>\n",
              "      <td>Y</td>\n",
              "      <td>NaN</td>\n",
              "      <td>NaN</td>\n",
              "      <td>NaN</td>\n",
              "      <td>NaN</td>\n",
              "      <td>NaN</td>\n",
              "      <td>MTSU</td>\n",
              "      <td>MTSU (local)</td>\n",
              "      <td>NaN</td>\n",
              "      <td>Y</td>\n",
              "      <td>NaN</td>\n",
              "      <td>NaN</td>\n",
              "      <td>NaN</td>\n",
              "    </tr>\n",
              "    <tr>\n",
              "      <th>3</th>\n",
              "      <td>Sabbath school offering, or, true stories and ...</td>\n",
              "      <td>Martin, Mrs.; Summers, Thomas O.</td>\n",
              "      <td>Nashville, TN</td>\n",
              "      <td>Methodist Episcopal Church, South</td>\n",
              "      <td>E. Stevenson and F. A. Owen</td>\n",
              "      <td>NaN</td>\n",
              "      <td>1855</td>\n",
              "      <td>NaN</td>\n",
              "      <td>1854</td>\n",
              "      <td>NaN</td>\n",
              "      <td>?</td>\n",
              "      <td>?</td>\n",
              "      <td>NaN</td>\n",
              "      <td>Methodist (MEC,S)</td>\n",
              "      <td>?</td>\n",
              "      <td>English</td>\n",
              "      <td>Sacred</td>\n",
              "      <td>Y</td>\n",
              "      <td>NaN</td>\n",
              "      <td>NaN</td>\n",
              "      <td>NaN</td>\n",
              "      <td>NaN</td>\n",
              "      <td>NaN</td>\n",
              "      <td>Y</td>\n",
              "      <td>NaN</td>\n",
              "      <td>NaN</td>\n",
              "      <td>NaN</td>\n",
              "      <td>Y</td>\n",
              "      <td>NaN</td>\n",
              "      <td>NaN</td>\n",
              "      <td>NaN</td>\n",
              "      <td>NaN</td>\n",
              "      <td>NaN</td>\n",
              "      <td>NaN</td>\n",
              "      <td>NaN</td>\n",
              "      <td>NaN</td>\n",
              "      <td>NaN</td>\n",
              "      <td>NaN</td>\n",
              "      <td>NaN</td>\n",
              "      <td>NaN</td>\n",
              "      <td>NaN</td>\n",
              "      <td>NaN</td>\n",
              "      <td>NaN</td>\n",
              "      <td>Y</td>\n",
              "      <td>NaN</td>\n",
              "      <td>MTSU</td>\n",
              "      <td>MTSU (local)</td>\n",
              "      <td>NaN</td>\n",
              "      <td>Y</td>\n",
              "      <td>NaN</td>\n",
              "      <td>NaN</td>\n",
              "      <td>NaN</td>\n",
              "    </tr>\n",
              "    <tr>\n",
              "      <th>4</th>\n",
              "      <td>Songs for the Sabbath school and vestry : desi...</td>\n",
              "      <td>Williams, B. W.</td>\n",
              "      <td>Boston, MA; Chicago, IL; Cincinnati, OH</td>\n",
              "      <td>Henry Hoyt; William Tomlinson; George Crosby</td>\n",
              "      <td>NaN</td>\n",
              "      <td>NaN</td>\n",
              "      <td>1859</td>\n",
              "      <td>NaN</td>\n",
              "      <td>1858</td>\n",
              "      <td>NaN</td>\n",
              "      <td>?</td>\n",
              "      <td>?</td>\n",
              "      <td>oblong</td>\n",
              "      <td>NaN</td>\n",
              "      <td>?</td>\n",
              "      <td>English</td>\n",
              "      <td>Sacred</td>\n",
              "      <td>Y</td>\n",
              "      <td>NaN</td>\n",
              "      <td>NaN</td>\n",
              "      <td>NaN</td>\n",
              "      <td>NaN</td>\n",
              "      <td>NaN</td>\n",
              "      <td>NaN</td>\n",
              "      <td>NaN</td>\n",
              "      <td>Y</td>\n",
              "      <td>NaN</td>\n",
              "      <td>NaN</td>\n",
              "      <td>NaN</td>\n",
              "      <td>NaN</td>\n",
              "      <td>NaN</td>\n",
              "      <td>NaN</td>\n",
              "      <td>NaN</td>\n",
              "      <td>NaN</td>\n",
              "      <td>NaN</td>\n",
              "      <td>NaN</td>\n",
              "      <td>NaN</td>\n",
              "      <td>Y</td>\n",
              "      <td>NaN</td>\n",
              "      <td>NaN</td>\n",
              "      <td>NaN</td>\n",
              "      <td>NaN</td>\n",
              "      <td>NaN</td>\n",
              "      <td>Y</td>\n",
              "      <td>NaN</td>\n",
              "      <td>MTSU</td>\n",
              "      <td>MTSU (local)</td>\n",
              "      <td>NaN</td>\n",
              "      <td>Y</td>\n",
              "      <td>NaN</td>\n",
              "      <td>NaN</td>\n",
              "      <td>NaN</td>\n",
              "    </tr>\n",
              "  </tbody>\n",
              "</table>\n",
              "</div>"
            ],
            "text/plain": [
              "                                               Title  ... Notes\n",
              "0             Timbrel : a collection of sacred music  ...   NaN\n",
              "1  Sacred melodeon, The : containing a great vari...  ...   NaN\n",
              "2  Sacred melodeon, The : containing a great vari...  ...   NaN\n",
              "3  Sabbath school offering, or, true stories and ...  ...   NaN\n",
              "4  Songs for the Sabbath school and vestry : desi...  ...   NaN\n",
              "\n",
              "[5 rows x 52 columns]"
            ]
          },
          "metadata": {},
          "execution_count": 4
        }
      ]
    },
    {
      "cell_type": "code",
      "metadata": {
        "id": "LguSzP6tiaeC",
        "colab": {
          "base_uri": "https://localhost:8080/"
        },
        "outputId": "91d6440b-87a2-48f5-f392-4be8afd44a6a"
      },
      "source": [
        "df.info()"
      ],
      "execution_count": null,
      "outputs": [
        {
          "output_type": "stream",
          "name": "stdout",
          "text": [
            "<class 'pandas.core.frame.DataFrame'>\n",
            "RangeIndex: 2265 entries, 0 to 2264\n",
            "Data columns (total 52 columns):\n",
            " #   Column                         Non-Null Count  Dtype \n",
            "---  ------                         --------------  ----- \n",
            " 0   Title                          2265 non-null   object\n",
            " 1   Responsibility                 2265 non-null   object\n",
            " 2   Associated Places              2264 non-null   object\n",
            " 3   Publication                    2259 non-null   object\n",
            " 4   Manufacture                    218 non-null    object\n",
            " 5   Distribution                   47 non-null     object\n",
            " 6   Date                           2265 non-null   object\n",
            " 7   Approximate Date               1102 non-null   object\n",
            " 8   Copyright                      886 non-null    object\n",
            " 9   Edition/Imprint                335 non-null    object\n",
            " 10  Pagination                     2264 non-null   object\n",
            " 11  Height                         2265 non-null   object\n",
            " 12  Width                          378 non-null    object\n",
            " 13  Denomination                   1020 non-null   object\n",
            " 14  Notation                       2265 non-null   object\n",
            " 15  Language                       2265 non-null   object\n",
            " 16  Content                        2265 non-null   object\n",
            " 17  1850-1925                      2232 non-null   object\n",
            " 18  After 1925                     76 non-null     object\n",
            " 19  Before 1850                    16 non-null     object\n",
            " 20  Broadside                      9 non-null      object\n",
            " 21  Confederate Imprint            27 non-null     object\n",
            " 22  Convention Gospel              168 non-null    object\n",
            " 23  Denominational Publication     663 non-null    object\n",
            " 24  Dispersed Harmony              52 non-null     object\n",
            " 25  Distributor in South           72 non-null     object\n",
            " 26  Ethnographic                   42 non-null     object\n",
            " 27  Female Author/Publisher        129 non-null    object\n",
            " 28  Fraternal Society              23 non-null     object\n",
            " 29  Gospel                         635 non-null    object\n",
            " 30  Liturgical/Devotional Content  170 non-null    object\n",
            " 31  Missionary Use                 147 non-null    object\n",
            " 32  Native Use                     58 non-null     object\n",
            " 33  Non-White                      495 non-null    object\n",
            " 34  Occasional                     42 non-null     object\n",
            " 35  Out-of-Country Publisher       32 non-null     object\n",
            " 36  Out-of-Region Publisher        300 non-null    object\n",
            " 37  Revival Use                    321 non-null    object\n",
            " 38  Scientific Music               213 non-null    object\n",
            " 39  Singing School Use             241 non-null    object\n",
            " 40  Still in Use                   67 non-null     object\n",
            " 41  Sheet Music                    33 non-null     object\n",
            " 42  Spirituals                     150 non-null    object\n",
            " 43  Sunday School Use              616 non-null    object\n",
            " 44  Tract Society Publication      51 non-null     object\n",
            " 45  Attestations                   2265 non-null   object\n",
            " 46  Source for Record              2264 non-null   object\n",
            " 47  Emory Holdings                 965 non-null    object\n",
            " 48  MTSU Holdings                  665 non-null    object\n",
            " 49  SBTS Holdings                  397 non-null    object\n",
            " 50  UK Holdings                    235 non-null    object\n",
            " 51  Notes                          470 non-null    object\n",
            "dtypes: object(52)\n",
            "memory usage: 920.3+ KB\n"
          ]
        }
      ]
    },
    {
      "cell_type": "markdown",
      "metadata": {
        "id": "PUixOrhfiaeC"
      },
      "source": [
        "## Histogram of Dates\n",
        "\n",
        "Let's start with a simple histogram showing the number of volumes selected for each year."
      ]
    },
    {
      "cell_type": "code",
      "metadata": {
        "id": "kKzFQMQIiaeD"
      },
      "source": [
        "dates = df.loc[:, 'Date'].values"
      ],
      "execution_count": null,
      "outputs": []
    },
    {
      "cell_type": "code",
      "metadata": {
        "id": "XxM-MpxLiaeE",
        "colab": {
          "base_uri": "https://localhost:8080/"
        },
        "outputId": "0e66e324-86ee-44ab-a2fb-4a18f1be24f4"
      },
      "source": [
        "dates"
      ],
      "execution_count": null,
      "outputs": [
        {
          "output_type": "execute_result",
          "data": {
            "text/plain": [
              "array(['1850', '1858', '1860', ..., '1898', '1907', '187?'], dtype=object)"
            ]
          },
          "metadata": {},
          "execution_count": 7
        }
      ]
    },
    {
      "cell_type": "code",
      "metadata": {
        "id": "30kP0H5DiaeE",
        "colab": {
          "base_uri": "https://localhost:8080/",
          "height": 301
        },
        "outputId": "cb47f801-c3f7-4f2e-bab5-40e537ad572a"
      },
      "source": [
        "p = sns.histplot(data=df, x=\"Date\")\n",
        "p.xaxis.set_major_locator(ticker.LinearLocator(10)) # Display every tenth label\n",
        "plt.xlabel('Year', fontsize=14)"
      ],
      "execution_count": null,
      "outputs": [
        {
          "output_type": "execute_result",
          "data": {
            "text/plain": [
              "Text(0.5, 0, 'Year')"
            ]
          },
          "metadata": {},
          "execution_count": 31
        },
        {
          "output_type": "display_data",
          "data": {
            "image/png": "[encoded data removed]",
            "text/plain": [
              "<Figure size 432x288 with 1 Axes>"
            ]
          },
          "metadata": {
            "needs_background": "light"
          }
        }
      ]
    },
    {
      "cell_type": "markdown",
      "metadata": {
        "id": "BHaiWVb2iaeF"
      },
      "source": [
        "So there's a lot wrong with this plot. Obviously the dates are not all four-digit years and that causes problems. Can we clean the data and make a better plot?"
      ]
    },
    {
      "cell_type": "code",
      "metadata": {
        "id": "2yP-vuKciaeF"
      },
      "source": [
        "# Make a list of problem values\n",
        "bad_dates = []\n",
        "for value in np.unique(dates):\n",
        "    if not re.match(r'^\\d\\d\\d\\d$', value):\n",
        "        bad_dates.append(value)\n",
        "\n",
        "# Replace problem values with None\n",
        "df.loc[df['Date'].isin(bad_dates), 'Date'] = None"
      ],
      "execution_count": null,
      "outputs": []
    },
    {
      "cell_type": "code",
      "metadata": {
        "id": "ewPqUd1kiaeG",
        "colab": {
          "base_uri": "https://localhost:8080/",
          "height": 453
        },
        "outputId": "5241cdc3-a85c-461d-dddd-cc632753b72f"
      },
      "source": [
        "dates = pd.to_numeric(df['Date'])\n",
        "p = sns.histplot(dates, bins=50)\n",
        "caption = '*Excludes 27 volumes with approximate dates'\n",
        "plt.figtext(.5, -.05, caption, wrap=True, horizontalalignment='center', fontsize=10)\n",
        "p.set_title('Distribution of Checklist Titles Over Time*', fontsize=15)\n",
        "plt.tight_layout\n",
        "fig = p.get_figure()\n",
        "fig.set_size_inches(9,6)\n",
        "#fig.savefig('plots/date_histogram.png', bbox_inches='tight')"
      ],
      "execution_count": null,
      "outputs": [
        {
          "output_type": "display_data",
          "data": {
            "image/png": "[encoded data removed]",
            "text/plain": [
              "<Figure size 648x432 with 1 Axes>"
            ]
          },
          "metadata": {
            "needs_background": "light"
          }
        }
      ]
    },
    {
      "cell_type": "code",
      "metadata": {
        "id": "UK0xc6JNiaeG",
        "colab": {
          "base_uri": "https://localhost:8080/"
        },
        "outputId": "4ea75471-9477-4abb-8b07-bb95478b243e"
      },
      "source": [
        "len(bad_dates)"
      ],
      "execution_count": null,
      "outputs": [
        {
          "output_type": "execute_result",
          "data": {
            "text/plain": [
              "27"
            ]
          },
          "metadata": {},
          "execution_count": 11
        }
      ]
    },
    {
      "cell_type": "markdown",
      "metadata": {
        "id": "LIHJXCadhVLJ"
      },
      "source": [
        "## Non-English titles"
      ]
    },
    {
      "cell_type": "code",
      "metadata": {
        "id": "BtQKbQq3iaeH",
        "colab": {
          "base_uri": "https://localhost:8080/",
          "height": 404
        },
        "outputId": "6caead67-ed78-469c-b7bf-4d7ab65cacd8"
      },
      "source": [
        "non_english = df[df['Language'] != 'English']\n",
        "ordered_languages = sorted(list(set(non_english['Language'])))\n",
        "ax = sns.countplot(data=non_english, y='Language', order=ordered_languages)\n",
        "for p in ax.patches:\n",
        "  ax.annotate(p.get_width(), (p.get_width() + p.get_x(), p.get_y()+0.65))\n",
        "ax.set_title('Non-English Titles in the Checklist')\n",
        "fig = ax.get_figure()\n",
        "fig.set_size_inches(9,6)\n",
        "\n"
      ],
      "execution_count": null,
      "outputs": [
        {
          "output_type": "display_data",
          "data": {
            "image/png": "[encoded data removed]",
            "text/plain": [
              "<Figure size 648x432 with 1 Axes>"
            ]
          },
          "metadata": {
            "needs_background": "light"
          }
        }
      ]
    },
    {
      "cell_type": "markdown",
      "metadata": {
        "id": "HSMAedv_eHpr"
      },
      "source": [
        "## Non-White titles"
      ]
    },
    {
      "cell_type": "code",
      "metadata": {
        "colab": {
          "base_uri": "https://localhost:8080/",
          "height": 404
        },
        "id": "0NnZT4Iomf8w",
        "outputId": "2c5abe49-1082-40ee-e359-f27bbfe9ac4b"
      },
      "source": [
        "nw = df[df['Non-White'] == 'Y']\n",
        "w = df[df['Non-White'] != 'Y']\n",
        "nw_dates = pd.to_numeric(nw['Date'])\n",
        "w_dates = pd.to_numeric(w['Date'])\n",
        "ax = sns.histplot(nw_dates, bins=50, alpha=0.3, label='Non-White', color='b')\n",
        "ax = sns.histplot(w_dates, bins=50, alpha=0.3, label='White', color='r')\n",
        "plt.legend(loc='upper left')\n",
        "plt.title('Distribution of Titles by Race')\n",
        "fig = ax.get_figure()\n",
        "fig.set_size_inches(9,6)"
      ],
      "execution_count": null,
      "outputs": [
        {
          "output_type": "display_data",
          "data": {
            "image/png": "[encoded data removed]",
            "text/plain": [
              "<Figure size 648x432 with 1 Axes>"
            ]
          },
          "metadata": {
            "needs_background": "light"
          }
        }
      ]
    },
    {
      "cell_type": "markdown",
      "metadata": {
        "id": "g6OU_nZDeW96"
      },
      "source": [
        "How many Non-White titles had a female author or publisher?"
      ]
    },
    {
      "cell_type": "code",
      "metadata": {
        "colab": {
          "base_uri": "https://localhost:8080/"
        },
        "id": "DD0azUL3AG5k",
        "outputId": "7138603c-851c-4be7-c7d3-4fa466ac2ab7"
      },
      "source": [
        "nw_women = df.loc[(df['Female Author/Publisher'] == 'Y') & (df['Non-White'] == 'Y')]\n",
        "nw_women.shape[0]"
      ],
      "execution_count": null,
      "outputs": [
        {
          "output_type": "execute_result",
          "data": {
            "text/plain": [
              "49"
            ]
          },
          "metadata": {},
          "execution_count": 18
        }
      ]
    },
    {
      "cell_type": "markdown",
      "metadata": {
        "id": "RJh9e7odekT3"
      },
      "source": [
        "Plot the distribution of Non-White tiltes with Female Author/Publisher"
      ]
    },
    {
      "cell_type": "code",
      "metadata": {
        "colab": {
          "base_uri": "https://localhost:8080/",
          "height": 404
        },
        "id": "p1xarjUBCpI3",
        "outputId": "843f53c1-bc3c-42b8-f7a4-b39a99d37b7d"
      },
      "source": [
        "nw_women_dates = pd.to_numeric(nw_women['Date'])\n",
        "ax = sns.histplot(nw_women_dates, bins=50)\n",
        "plt.title('49 Non-White Titles with Female Author/Publisher')\n",
        "fig = ax.get_figure()\n",
        "fig.set_size_inches(9,6)"
      ],
      "execution_count": null,
      "outputs": [
        {
          "output_type": "display_data",
          "data": {
            "image/png": "[encoded data removed]",
            "text/plain": [
              "<Figure size 648x432 with 1 Axes>"
            ]
          },
          "metadata": {
            "needs_background": "light"
          }
        }
      ]
    },
    {
      "cell_type": "markdown",
      "metadata": {
        "id": "sPHUcRP9e_7b"
      },
      "source": [
        "What are those two titles before 1870?"
      ]
    },
    {
      "cell_type": "code",
      "metadata": {
        "colab": {
          "base_uri": "https://localhost:8080/",
          "height": 357
        },
        "id": "fHvajsUWC2dv",
        "outputId": "aa2f78bd-490d-4302-8f73-a8723f7fd6ad"
      },
      "source": [
        "nw_women_old = nw_women[pd.to_numeric(nw_women['Date']) < 1870]\n",
        "nw_women_old.head()"
      ],
      "execution_count": null,
      "outputs": [
        {
          "output_type": "execute_result",
          "data": {
            "text/html": [
              "<div>\n",
              "<style scoped>\n",
              "    .dataframe tbody tr th:only-of-type {\n",
              "        vertical-align: middle;\n",
              "    }\n",
              "\n",
              "    .dataframe tbody tr th {\n",
              "        vertical-align: top;\n",
              "    }\n",
              "\n",
              "    .dataframe thead th {\n",
              "        text-align: right;\n",
              "    }\n",
              "</style>\n",
              "<table border=\"1\" class=\"dataframe\">\n",
              "  <thead>\n",
              "    <tr style=\"text-align: right;\">\n",
              "      <th></th>\n",
              "      <th>Title</th>\n",
              "      <th>Responsibility</th>\n",
              "      <th>Associated Places</th>\n",
              "      <th>Publication</th>\n",
              "      <th>Manufacture</th>\n",
              "      <th>Distribution</th>\n",
              "      <th>Date</th>\n",
              "      <th>Approximate Date</th>\n",
              "      <th>Copyright</th>\n",
              "      <th>Edition/Imprint</th>\n",
              "      <th>Pagination</th>\n",
              "      <th>Height</th>\n",
              "      <th>Width</th>\n",
              "      <th>Denomination</th>\n",
              "      <th>Notation</th>\n",
              "      <th>Language</th>\n",
              "      <th>Content</th>\n",
              "      <th>1850-1925</th>\n",
              "      <th>After 1925</th>\n",
              "      <th>Before 1850</th>\n",
              "      <th>Broadside</th>\n",
              "      <th>Confederate Imprint</th>\n",
              "      <th>Convention Gospel</th>\n",
              "      <th>Denominational Publication</th>\n",
              "      <th>Dispersed Harmony</th>\n",
              "      <th>Distributor in South</th>\n",
              "      <th>Ethnographic</th>\n",
              "      <th>Female Author/Publisher</th>\n",
              "      <th>Fraternal Society</th>\n",
              "      <th>Gospel</th>\n",
              "      <th>Liturgical/Devotional Content</th>\n",
              "      <th>Missionary Use</th>\n",
              "      <th>Native Use</th>\n",
              "      <th>Non-White</th>\n",
              "      <th>Occasional</th>\n",
              "      <th>Out-of-Country Publisher</th>\n",
              "      <th>Out-of-Region Publisher</th>\n",
              "      <th>Revival Use</th>\n",
              "      <th>Scientific Music</th>\n",
              "      <th>Singing School Use</th>\n",
              "      <th>Still in Use</th>\n",
              "      <th>Sheet Music</th>\n",
              "      <th>Spirituals</th>\n",
              "      <th>Sunday School Use</th>\n",
              "      <th>Tract Society Publication</th>\n",
              "      <th>Attestations</th>\n",
              "      <th>Source for Record</th>\n",
              "      <th>Emory Holdings</th>\n",
              "      <th>MTSU Holdings</th>\n",
              "      <th>SBTS Holdings</th>\n",
              "      <th>UK Holdings</th>\n",
              "      <th>Notes</th>\n",
              "    </tr>\n",
              "  </thead>\n",
              "  <tbody>\n",
              "    <tr>\n",
              "      <th>295</th>\n",
              "      <td>Hymns written for the use of Hebrew congregations</td>\n",
              "      <td>Moise, Penina</td>\n",
              "      <td>Charleston, SC</td>\n",
              "      <td>Congregation Beth Elohim</td>\n",
              "      <td>NaN</td>\n",
              "      <td>NaN</td>\n",
              "      <td>1867</td>\n",
              "      <td>NaN</td>\n",
              "      <td>1856</td>\n",
              "      <td>3rd ed., revised and corrected</td>\n",
              "      <td>214</td>\n",
              "      <td>16</td>\n",
              "      <td>NaN</td>\n",
              "      <td>Jewish (Western Sephardi/Reform)</td>\n",
              "      <td>Nil</td>\n",
              "      <td>English</td>\n",
              "      <td>Sacred</td>\n",
              "      <td>Y</td>\n",
              "      <td>NaN</td>\n",
              "      <td>NaN</td>\n",
              "      <td>NaN</td>\n",
              "      <td>NaN</td>\n",
              "      <td>NaN</td>\n",
              "      <td>NaN</td>\n",
              "      <td>NaN</td>\n",
              "      <td>NaN</td>\n",
              "      <td>NaN</td>\n",
              "      <td>Y</td>\n",
              "      <td>NaN</td>\n",
              "      <td>NaN</td>\n",
              "      <td>NaN</td>\n",
              "      <td>NaN</td>\n",
              "      <td>NaN</td>\n",
              "      <td>Y</td>\n",
              "      <td>NaN</td>\n",
              "      <td>NaN</td>\n",
              "      <td>NaN</td>\n",
              "      <td>NaN</td>\n",
              "      <td>NaN</td>\n",
              "      <td>NaN</td>\n",
              "      <td>NaN</td>\n",
              "      <td>NaN</td>\n",
              "      <td>NaN</td>\n",
              "      <td>NaN</td>\n",
              "      <td>NaN</td>\n",
              "      <td>College of Charleston; Hebrew Union College-JI...</td>\n",
              "      <td>OCLC</td>\n",
              "      <td>NaN</td>\n",
              "      <td>NaN</td>\n",
              "      <td>NaN</td>\n",
              "      <td>NaN</td>\n",
              "      <td>NaN</td>\n",
              "    </tr>\n",
              "    <tr>\n",
              "      <th>1580</th>\n",
              "      <td>Slave songs of the United States</td>\n",
              "      <td>Allen, William Francis; Ware, Charles Pickard;...</td>\n",
              "      <td>New York, NY</td>\n",
              "      <td>A. Simpson &amp; Co.</td>\n",
              "      <td>NaN</td>\n",
              "      <td>NaN</td>\n",
              "      <td>1867</td>\n",
              "      <td>NaN</td>\n",
              "      <td>NaN</td>\n",
              "      <td>NaN</td>\n",
              "      <td>115</td>\n",
              "      <td>23</td>\n",
              "      <td>NaN</td>\n",
              "      <td>NaN</td>\n",
              "      <td>Round</td>\n",
              "      <td>English</td>\n",
              "      <td>Sacred</td>\n",
              "      <td>Y</td>\n",
              "      <td>NaN</td>\n",
              "      <td>NaN</td>\n",
              "      <td>NaN</td>\n",
              "      <td>NaN</td>\n",
              "      <td>NaN</td>\n",
              "      <td>NaN</td>\n",
              "      <td>NaN</td>\n",
              "      <td>NaN</td>\n",
              "      <td>Y</td>\n",
              "      <td>Y</td>\n",
              "      <td>NaN</td>\n",
              "      <td>NaN</td>\n",
              "      <td>NaN</td>\n",
              "      <td>NaN</td>\n",
              "      <td>NaN</td>\n",
              "      <td>Y</td>\n",
              "      <td>NaN</td>\n",
              "      <td>NaN</td>\n",
              "      <td>NaN</td>\n",
              "      <td>NaN</td>\n",
              "      <td>NaN</td>\n",
              "      <td>NaN</td>\n",
              "      <td>NaN</td>\n",
              "      <td>NaN</td>\n",
              "      <td>Y</td>\n",
              "      <td>NaN</td>\n",
              "      <td>NaN</td>\n",
              "      <td>MTSU; UK?</td>\n",
              "      <td>MTSU (OPAC)</td>\n",
              "      <td>NaN</td>\n",
              "      <td>Y</td>\n",
              "      <td>NaN</td>\n",
              "      <td>Y</td>\n",
              "      <td>UK catalog shows copy, but lacks holdings reco...</td>\n",
              "    </tr>\n",
              "  </tbody>\n",
              "</table>\n",
              "</div>"
            ],
            "text/plain": [
              "                                                  Title  ...                                              Notes\n",
              "295   Hymns written for the use of Hebrew congregations  ...                                                NaN\n",
              "1580                   Slave songs of the United States  ...  UK catalog shows copy, but lacks holdings reco...\n",
              "\n",
              "[2 rows x 52 columns]"
            ]
          },
          "metadata": {},
          "execution_count": 16
        }
      ]
    },
    {
      "cell_type": "markdown",
      "metadata": {
        "id": "vBM7Rhzcd9MS"
      },
      "source": [
        "## Styles of Notation\n",
        "\n"
      ]
    },
    {
      "cell_type": "code",
      "metadata": {
        "colab": {
          "base_uri": "https://localhost:8080/",
          "height": 404
        },
        "id": "QI0enOkxEoMk",
        "outputId": "0934692c-e6c0-46ad-a580-ac6c7d37f078"
      },
      "source": [
        "ax = sns.countplot(data=df, y='Notation')\n",
        "for p in ax.patches:\n",
        "  ax.annotate(p.get_width(), (p.get_width() + p.get_x(), p.get_y()+0.75))\n",
        "ax.set_title('Styles of Notation in the Checklist')\n",
        "fig = ax.get_figure()\n",
        "fig.set_size_inches(9, 6)"
      ],
      "execution_count": null,
      "outputs": [
        {
          "output_type": "display_data",
          "data": {
            "image/png": "[encoded data removed]",
            "text/plain": [
              "<Figure size 648x432 with 1 Axes>"
            ]
          },
          "metadata": {
            "needs_background": "light"
          }
        }
      ]
    },
    {
      "cell_type": "markdown",
      "metadata": {
        "id": "04vhTS7-dvwF"
      },
      "source": [
        "## Titles associated with Atlanta"
      ]
    },
    {
      "cell_type": "code",
      "metadata": {
        "colab": {
          "base_uri": "https://localhost:8080/"
        },
        "id": "rVGH9SA7Inhb",
        "outputId": "0c3462c4-e700-440c-f17a-d3a857e9ee9a"
      },
      "source": [
        "atl = df[df['Associated Places'].str.contains('Atlanta', na=False)]\n",
        "atl.shape[0]"
      ],
      "execution_count": null,
      "outputs": [
        {
          "output_type": "execute_result",
          "data": {
            "text/plain": [
              "71"
            ]
          },
          "metadata": {},
          "execution_count": 23
        }
      ]
    },
    {
      "cell_type": "code",
      "metadata": {
        "colab": {
          "base_uri": "https://localhost:8080/",
          "height": 404
        },
        "id": "HPfKxE05mGzb",
        "outputId": "9d6ae8d7-d8e2-4d47-f63f-9a279e68f9b1"
      },
      "source": [
        "atl_dates = pd.to_numeric(atl['Date'])\n",
        "ax = sns.histplot(atl_dates, bins=50)\n",
        "plt.title('Distribution of the 71 Titles Associated with Atlanta')\n",
        "fig = ax.get_figure()\n",
        "fig.set_size_inches(9,6)"
      ],
      "execution_count": null,
      "outputs": [
        {
          "output_type": "display_data",
          "data": {
            "image/png": "[encoded data removed]",
            "text/plain": [
              "<Figure size 648x432 with 1 Axes>"
            ]
          },
          "metadata": {
            "needs_background": "light"
          }
        }
      ]
    },
    {
      "cell_type": "markdown",
      "metadata": {
        "id": "ZpeDL3HO6Cgv"
      },
      "source": [
        "## Content types"
      ]
    },
    {
      "cell_type": "code",
      "metadata": {
        "colab": {
          "base_uri": "https://localhost:8080/",
          "height": 404
        },
        "id": "_F3BVhz84SC2",
        "outputId": "755cb3b1-ffd1-46ec-c7be-0f88599e3302"
      },
      "source": [
        "ax=sns.countplot(data=df, x='Content')\n",
        "for p in ax.patches:\n",
        "  ax.annotate(p.get_height(), (p.get_x()+0.32, p.get_height()+3.5))\n",
        "plt.title('Content Types')\n",
        "fig = ax.get_figure()\n",
        "fig.set_size_inches(9,6)"
      ],
      "execution_count": null,
      "outputs": [
        {
          "output_type": "display_data",
          "data": {
            "image/png": "[encoded data removed]",
            "text/plain": [
              "<Figure size 648x432 with 1 Axes>"
            ]
          },
          "metadata": {
            "needs_background": "light"
          }
        }
      ]
    }
  ]
}