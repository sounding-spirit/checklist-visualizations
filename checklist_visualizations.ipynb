{
 "cells": [
  {
   "cell_type": "markdown",
   "metadata": {},
   "source": [
    "# Sounding Spirit Checklist Visualizations\n",
    "\n",
    "The purpose of this notebook is to practice using Python to visualize patterns in the Checklist data. "
   ]
  },
  {
   "cell_type": "code",
   "execution_count": 110,
   "metadata": {},
   "outputs": [],
   "source": [
    "# The ``inline`` flag will use the appropriate backend to make figures appear inline in the notebook.  \n",
    "%matplotlib inline\n",
    "\n",
    "import pandas as pd\n",
    "import numpy as np\n",
    "\n",
    "# `plt` is an alias for the `matplotlib.pyplot` module\n",
    "import matplotlib.pyplot as plt\n",
    "import matplotlib.ticker as ticker\n",
    "\n",
    "# import seaborn library (wrapper of matplotlib)\n",
    "import seaborn as sns\n",
    "\n",
    "# import regular expressions to check date\n",
    "import re"
   ]
  },
  {
   "cell_type": "markdown",
   "metadata": {},
   "source": [
    "## Load Data"
   ]
  },
  {
   "cell_type": "code",
   "execution_count": 111,
   "metadata": {},
   "outputs": [],
   "source": [
    "filename = ('dataverse_files/Checklist of Southern Sacred Music Imprints, 1850–1925.csv')\n",
    "df = pd.read_csv(filename)"
   ]
  },
  {
   "cell_type": "code",
   "execution_count": 112,
   "metadata": {},
   "outputs": [
    {
     "data": {
      "text/html": [
       "<div>\n",
       "<style scoped>\n",
       "    .dataframe tbody tr th:only-of-type {\n",
       "        vertical-align: middle;\n",
       "    }\n",
       "\n",
       "    .dataframe tbody tr th {\n",
       "        vertical-align: top;\n",
       "    }\n",
       "\n",
       "    .dataframe thead th {\n",
       "        text-align: right;\n",
       "    }\n",
       "</style>\n",
       "<table border=\"1\" class=\"dataframe\">\n",
       "  <thead>\n",
       "    <tr style=\"text-align: right;\">\n",
       "      <th></th>\n",
       "      <th>Title</th>\n",
       "      <th>Responsibility</th>\n",
       "      <th>Associated Places</th>\n",
       "      <th>Publication</th>\n",
       "      <th>Manufacture</th>\n",
       "      <th>Distribution</th>\n",
       "      <th>Date</th>\n",
       "      <th>Approximate Date</th>\n",
       "      <th>Copyright</th>\n",
       "      <th>Edition/Imprint</th>\n",
       "      <th>...</th>\n",
       "      <th>Spirituals</th>\n",
       "      <th>Sunday School Use</th>\n",
       "      <th>Tract Society Publication</th>\n",
       "      <th>Attestations</th>\n",
       "      <th>Source for Record</th>\n",
       "      <th>Emory Holdings</th>\n",
       "      <th>MTSU Holdings</th>\n",
       "      <th>SBTS Holdings</th>\n",
       "      <th>UK Holdings</th>\n",
       "      <th>Notes</th>\n",
       "    </tr>\n",
       "  </thead>\n",
       "  <tbody>\n",
       "    <tr>\n",
       "      <td>0</td>\n",
       "      <td>Timbrel : a collection of sacred music</td>\n",
       "      <td>Baker, B. F.; Woodbury, I. B.</td>\n",
       "      <td>New York, NY; Boston, MA; Cincinnati, OH; St. ...</td>\n",
       "      <td>Huntington and Savage; W. J. Reynolds and Co.;...</td>\n",
       "      <td>NaN</td>\n",
       "      <td>NaN</td>\n",
       "      <td>1850</td>\n",
       "      <td>NaN</td>\n",
       "      <td>1848</td>\n",
       "      <td>NaN</td>\n",
       "      <td>...</td>\n",
       "      <td>NaN</td>\n",
       "      <td>NaN</td>\n",
       "      <td>NaN</td>\n",
       "      <td>MTSU</td>\n",
       "      <td>MTSU (local)</td>\n",
       "      <td>NaN</td>\n",
       "      <td>Y</td>\n",
       "      <td>NaN</td>\n",
       "      <td>NaN</td>\n",
       "      <td>NaN</td>\n",
       "    </tr>\n",
       "    <tr>\n",
       "      <td>1</td>\n",
       "      <td>Sacred melodeon, The : containing a great vari...</td>\n",
       "      <td>Hayden, A. S.</td>\n",
       "      <td>Cincinnati, OH</td>\n",
       "      <td>Moore, Wilstach, Keys and Co.</td>\n",
       "      <td>NaN</td>\n",
       "      <td>NaN</td>\n",
       "      <td>1858</td>\n",
       "      <td>NaN</td>\n",
       "      <td>1849</td>\n",
       "      <td>NaN</td>\n",
       "      <td>...</td>\n",
       "      <td>NaN</td>\n",
       "      <td>NaN</td>\n",
       "      <td>NaN</td>\n",
       "      <td>MTSU</td>\n",
       "      <td>MTSU (local)</td>\n",
       "      <td>NaN</td>\n",
       "      <td>Y</td>\n",
       "      <td>NaN</td>\n",
       "      <td>NaN</td>\n",
       "      <td>NaN</td>\n",
       "    </tr>\n",
       "    <tr>\n",
       "      <td>2</td>\n",
       "      <td>Sacred melodeon, The : containing a great vari...</td>\n",
       "      <td>Hayden, A. S.</td>\n",
       "      <td>Cincinnati, OH</td>\n",
       "      <td>Moore, Wilstach, Keys and Co.</td>\n",
       "      <td>NaN</td>\n",
       "      <td>NaN</td>\n",
       "      <td>1860</td>\n",
       "      <td>NaN</td>\n",
       "      <td>1849</td>\n",
       "      <td>NaN</td>\n",
       "      <td>...</td>\n",
       "      <td>NaN</td>\n",
       "      <td>NaN</td>\n",
       "      <td>NaN</td>\n",
       "      <td>MTSU</td>\n",
       "      <td>MTSU (local)</td>\n",
       "      <td>NaN</td>\n",
       "      <td>Y</td>\n",
       "      <td>NaN</td>\n",
       "      <td>NaN</td>\n",
       "      <td>NaN</td>\n",
       "    </tr>\n",
       "    <tr>\n",
       "      <td>3</td>\n",
       "      <td>Sabbath school offering, or, true stories and ...</td>\n",
       "      <td>Martin, Mrs.; Summers, Thomas O.</td>\n",
       "      <td>Nashville, TN</td>\n",
       "      <td>Methodist Episcopal Church, South</td>\n",
       "      <td>E. Stevenson and F. A. Owen</td>\n",
       "      <td>NaN</td>\n",
       "      <td>1855</td>\n",
       "      <td>NaN</td>\n",
       "      <td>1854</td>\n",
       "      <td>NaN</td>\n",
       "      <td>...</td>\n",
       "      <td>NaN</td>\n",
       "      <td>Y</td>\n",
       "      <td>NaN</td>\n",
       "      <td>MTSU</td>\n",
       "      <td>MTSU (local)</td>\n",
       "      <td>NaN</td>\n",
       "      <td>Y</td>\n",
       "      <td>NaN</td>\n",
       "      <td>NaN</td>\n",
       "      <td>NaN</td>\n",
       "    </tr>\n",
       "    <tr>\n",
       "      <td>4</td>\n",
       "      <td>Songs for the Sabbath school and vestry : desi...</td>\n",
       "      <td>Williams, B. W.</td>\n",
       "      <td>Boston, MA; Chicago, IL; Cincinnati, OH</td>\n",
       "      <td>Henry Hoyt; William Tomlinson; George Crosby</td>\n",
       "      <td>NaN</td>\n",
       "      <td>NaN</td>\n",
       "      <td>1859</td>\n",
       "      <td>NaN</td>\n",
       "      <td>1858</td>\n",
       "      <td>NaN</td>\n",
       "      <td>...</td>\n",
       "      <td>NaN</td>\n",
       "      <td>Y</td>\n",
       "      <td>NaN</td>\n",
       "      <td>MTSU</td>\n",
       "      <td>MTSU (local)</td>\n",
       "      <td>NaN</td>\n",
       "      <td>Y</td>\n",
       "      <td>NaN</td>\n",
       "      <td>NaN</td>\n",
       "      <td>NaN</td>\n",
       "    </tr>\n",
       "  </tbody>\n",
       "</table>\n",
       "<p>5 rows × 52 columns</p>\n",
       "</div>"
      ],
      "text/plain": [
       "                                               Title  \\\n",
       "0             Timbrel : a collection of sacred music   \n",
       "1  Sacred melodeon, The : containing a great vari...   \n",
       "2  Sacred melodeon, The : containing a great vari...   \n",
       "3  Sabbath school offering, or, true stories and ...   \n",
       "4  Songs for the Sabbath school and vestry : desi...   \n",
       "\n",
       "                     Responsibility  \\\n",
       "0     Baker, B. F.; Woodbury, I. B.   \n",
       "1                     Hayden, A. S.   \n",
       "2                     Hayden, A. S.   \n",
       "3  Martin, Mrs.; Summers, Thomas O.   \n",
       "4                   Williams, B. W.   \n",
       "\n",
       "                                   Associated Places  \\\n",
       "0  New York, NY; Boston, MA; Cincinnati, OH; St. ...   \n",
       "1                                     Cincinnati, OH   \n",
       "2                                     Cincinnati, OH   \n",
       "3                                      Nashville, TN   \n",
       "4            Boston, MA; Chicago, IL; Cincinnati, OH   \n",
       "\n",
       "                                         Publication  \\\n",
       "0  Huntington and Savage; W. J. Reynolds and Co.;...   \n",
       "1                      Moore, Wilstach, Keys and Co.   \n",
       "2                      Moore, Wilstach, Keys and Co.   \n",
       "3                  Methodist Episcopal Church, South   \n",
       "4       Henry Hoyt; William Tomlinson; George Crosby   \n",
       "\n",
       "                   Manufacture Distribution  Date Approximate Date Copyright  \\\n",
       "0                          NaN          NaN  1850              NaN      1848   \n",
       "1                          NaN          NaN  1858              NaN      1849   \n",
       "2                          NaN          NaN  1860              NaN      1849   \n",
       "3  E. Stevenson and F. A. Owen          NaN  1855              NaN      1854   \n",
       "4                          NaN          NaN  1859              NaN      1858   \n",
       "\n",
       "  Edition/Imprint  ... Spirituals Sunday School Use Tract Society Publication  \\\n",
       "0             NaN  ...        NaN               NaN                       NaN   \n",
       "1             NaN  ...        NaN               NaN                       NaN   \n",
       "2             NaN  ...        NaN               NaN                       NaN   \n",
       "3             NaN  ...        NaN                 Y                       NaN   \n",
       "4             NaN  ...        NaN                 Y                       NaN   \n",
       "\n",
       "  Attestations Source for Record Emory Holdings MTSU Holdings SBTS Holdings  \\\n",
       "0         MTSU      MTSU (local)            NaN             Y           NaN   \n",
       "1         MTSU      MTSU (local)            NaN             Y           NaN   \n",
       "2         MTSU      MTSU (local)            NaN             Y           NaN   \n",
       "3         MTSU      MTSU (local)            NaN             Y           NaN   \n",
       "4         MTSU      MTSU (local)            NaN             Y           NaN   \n",
       "\n",
       "  UK Holdings Notes  \n",
       "0         NaN   NaN  \n",
       "1         NaN   NaN  \n",
       "2         NaN   NaN  \n",
       "3         NaN   NaN  \n",
       "4         NaN   NaN  \n",
       "\n",
       "[5 rows x 52 columns]"
      ]
     },
     "execution_count": 112,
     "metadata": {},
     "output_type": "execute_result"
    }
   ],
   "source": [
    "df.head()"
   ]
  },
  {
   "cell_type": "code",
   "execution_count": 113,
   "metadata": {},
   "outputs": [
    {
     "name": "stdout",
     "output_type": "stream",
     "text": [
      "<class 'pandas.core.frame.DataFrame'>\n",
      "RangeIndex: 2265 entries, 0 to 2264\n",
      "Data columns (total 52 columns):\n",
      "Title                            2265 non-null object\n",
      "Responsibility                   2265 non-null object\n",
      "Associated Places                2264 non-null object\n",
      "Publication                      2259 non-null object\n",
      "Manufacture                      218 non-null object\n",
      "Distribution                     47 non-null object\n",
      "Date                             2265 non-null object\n",
      "Approximate Date                 1102 non-null object\n",
      "Copyright                        886 non-null object\n",
      "Edition/Imprint                  335 non-null object\n",
      "Pagination                       2264 non-null object\n",
      "Height                           2265 non-null object\n",
      "Width                            378 non-null object\n",
      "Denomination                     1020 non-null object\n",
      "Notation                         2265 non-null object\n",
      "Language                         2265 non-null object\n",
      "Content                          2265 non-null object\n",
      "1850-1925                        2232 non-null object\n",
      "After 1925                       76 non-null object\n",
      "Before 1850                      16 non-null object\n",
      "Broadside                        9 non-null object\n",
      "Confederate Imprint              27 non-null object\n",
      "Convention Gospel                168 non-null object\n",
      "Denominational Publication       663 non-null object\n",
      "Dispersed Harmony                52 non-null object\n",
      "Distributor in South             72 non-null object\n",
      "Ethnographic                     42 non-null object\n",
      "Female Author/Publisher          129 non-null object\n",
      "Fraternal Society                23 non-null object\n",
      "Gospel                           635 non-null object\n",
      "Liturgical/Devotional Content    170 non-null object\n",
      "Missionary Use                   147 non-null object\n",
      "Native Use                       58 non-null object\n",
      "Non-White                        495 non-null object\n",
      "Occasional                       42 non-null object\n",
      "Out-of-Country Publisher         32 non-null object\n",
      "Out-of-Region Publisher          300 non-null object\n",
      "Revival Use                      321 non-null object\n",
      "Scientific Music                 213 non-null object\n",
      "Singing School Use               241 non-null object\n",
      "Still in Use                     67 non-null object\n",
      "Sheet Music                      33 non-null object\n",
      "Spirituals                       150 non-null object\n",
      "Sunday School Use                616 non-null object\n",
      "Tract Society Publication        51 non-null object\n",
      "Attestations                     2265 non-null object\n",
      "Source for Record                2264 non-null object\n",
      "Emory Holdings                   965 non-null object\n",
      "MTSU Holdings                    665 non-null object\n",
      "SBTS Holdings                    397 non-null object\n",
      "UK Holdings                      235 non-null object\n",
      "Notes                            470 non-null object\n",
      "dtypes: object(52)\n",
      "memory usage: 920.3+ KB\n"
     ]
    }
   ],
   "source": [
    "df.info()"
   ]
  },
  {
   "cell_type": "markdown",
   "metadata": {},
   "source": [
    "## Histogram of Dates\n",
    "\n",
    "Let's start with a simple histogram showing the number of volumes selected for each year."
   ]
  },
  {
   "cell_type": "code",
   "execution_count": 114,
   "metadata": {},
   "outputs": [],
   "source": [
    "dates = df.loc[:, 'Date'].values"
   ]
  },
  {
   "cell_type": "code",
   "execution_count": 115,
   "metadata": {},
   "outputs": [
    {
     "data": {
      "text/plain": [
       "array(['1850', '1858', '1860', ..., '1898', '1907', '187?'], dtype=object)"
      ]
     },
     "execution_count": 115,
     "metadata": {},
     "output_type": "execute_result"
    }
   ],
   "source": [
    "dates"
   ]
  },
  {
   "cell_type": "code",
   "execution_count": 116,
   "metadata": {},
   "outputs": [
    {
     "data": {
      "text/plain": [
       "Text(0.5, 0, 'Year')"
      ]
     },
     "execution_count": 116,
     "metadata": {},
     "output_type": "execute_result"
    },
    {
     "data": {
      "image/png": "[encoded data removed]",
      "text/plain": [
       "<Figure size 432x288 with 1 Axes>"
      ]
     },
     "metadata": {
      "needs_background": "light"
     },
     "output_type": "display_data"
    }
   ],
   "source": [
    "p = sns.histplot(data=df, x=\"Date\")\n",
    "p.xaxis.set_major_locator(ticker.LinearLocator(10)) # Display every tenth label\n",
    "plt.xlabel('Year', fontsize=14)"
   ]
  },
  {
   "cell_type": "markdown",
   "metadata": {},
   "source": [
    "So there's a lot wrong with this plot. Obviously the dates are not all four-digit years and that causes problems. Can we clean the data and make a better plot?"
   ]
  },
  {
   "cell_type": "code",
   "execution_count": 117,
   "metadata": {},
   "outputs": [],
   "source": [
    "# Make a list of problem values\n",
    "bad_dates = []\n",
    "for value in np.unique(dates):\n",
    "    if not re.match(r'^\\d\\d\\d\\d$', value):\n",
    "        bad_dates.append(value)\n",
    "\n",
    "# Replace problem values with None\n",
    "df.loc[df['Date'].isin(bad_dates), 'Date'] = None"
   ]
  },
  {
   "cell_type": "code",
   "execution_count": 123,
   "metadata": {},
   "outputs": [
    {
     "data": {
      "image/png": "[encoded data removed]",
      "text/plain": [
       "<Figure size 432x288 with 1 Axes>"
      ]
     },
     "metadata": {
      "needs_background": "light"
     },
     "output_type": "display_data"
    }
   ],
   "source": [
    "dates = pd.to_numeric(df['Date'])\n",
    "p = sns.histplot(dates, bins=50)\n",
    "caption = '*Excludes 27 volumes with approximate dates'\n",
    "plt.figtext(.5, -.05, caption, wrap=True, horizontalalignment='center', fontsize=10)\n",
    "p.set_title('Distribution of Checklist Titles Over Time*', fontsize=15)\n",
    "plt.tight_layout\n",
    "fig = p.get_figure()\n",
    "fig.savefig('plots/date_histogram.png', bbox_inches='tight')"
   ]
  },
  {
   "cell_type": "code",
   "execution_count": 119,
   "metadata": {},
   "outputs": [
    {
     "data": {
      "text/plain": [
       "27"
      ]
     },
     "execution_count": 119,
     "metadata": {},
     "output_type": "execute_result"
    }
   ],
   "source": [
    "len(bad_dates)"
   ]
  },
  {
   "cell_type": "code",
   "execution_count": null,
   "metadata": {},
   "outputs": [],
   "source": []
  }
 ],
 "metadata": {
  "kernelspec": {
   "display_name": "Python 3",
   "language": "python",
   "name": "python3"
  },
  "language_info": {
   "codemirror_mode": {
    "name": "ipython",
    "version": 3
   },
   "file_extension": ".py",
   "mimetype": "text/x-python",
   "name": "python",
   "nbconvert_exporter": "python",
   "pygments_lexer": "ipython3",
   "version": "3.7.4"
  }
 },
 "nbformat": 4,
 "nbformat_minor": 2
}
